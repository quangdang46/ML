{
  "nbformat": 4,
  "nbformat_minor": 0,
  "metadata": {
    "colab": {
      "provenance": []
    },
    "kernelspec": {
      "name": "python3",
      "display_name": "Python 3"
    },
    "language_info": {
      "name": "python"
    }
  },
  "cells": [
    {
      "cell_type": "code",
      "execution_count": 1,
      "metadata": {
        "id": "bIoMm7nvlfQO"
      },
      "outputs": [],
      "source": [
        "import numpy as np\n",
        "import pandas as pd\n",
        "\n",
        "def gradient_descent(X, y, alpha, num_iterations):\n",
        "    theta = np.random.randn(X.shape[1])\n",
        "\n",
        "    for i in range(num_iterations):\n",
        "        h = X @ theta\n",
        "        gradient = 1 / X.shape[0] * X.T @ (h - y)\n",
        "        theta -= alpha * gradient\n",
        "\n",
        "    return theta\n",
        "\n"
      ]
    },
    {
      "cell_type": "code",
      "source": [
        "# Load\n",
        "data = pd.read_csv('house_practice.csv')\n",
        "X = data[['Size', 'Bedrooms']].values\n",
        "y = data['Price'].values\n",
        "\n",
        "\n",
        "mean = np.mean(X, axis=0)\n",
        "std = np.std(X, axis=0)\n",
        "X = (X - mean) / std\n",
        "\n",
        "X = np.column_stack((np.ones(X.shape[0]), X))\n",
        "\n",
        "alpha = 0.01\n",
        "num_iterations = 1000\n",
        "\n",
        "theta = gradient_descent(X, y, alpha, num_iterations)\n",
        "\n",
        "print(\"Learned Parameters (theta):\", theta)\n",
        "\n",
        "new_data = np.array([[2104, 3]])\n",
        "\n",
        "new_data = (new_data - mean) / std\n",
        "new_data = np.insert(new_data, 0, 1)\n",
        "predicted_price = np.dot(new_data, theta)\n",
        "print(\"Predicted Price:\", predicted_price)"
      ],
      "metadata": {
        "id": "n7e_Rv1Plop2",
        "outputId": "5c6a1789-18c0-4fb6-f35f-d27576558264",
        "colab": {
          "base_uri": "https://localhost:8080/"
        }
      },
      "execution_count": 2,
      "outputs": [
        {
          "output_type": "stream",
          "name": "stdout",
          "text": [
            "Learned Parameters (theta): [340397.96359077 108742.65469509  -5873.22835635]\n",
            "Predicted Price: 356016.3234268521\n"
          ]
        }
      ]
    }
  ]
}