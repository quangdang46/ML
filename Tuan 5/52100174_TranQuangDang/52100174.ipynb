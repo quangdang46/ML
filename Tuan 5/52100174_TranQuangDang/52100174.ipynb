{
  "nbformat": 4,
  "nbformat_minor": 0,
  "metadata": {
    "colab": {
      "provenance": []
    },
    "kernelspec": {
      "name": "python3",
      "display_name": "Python 3"
    },
    "language_info": {
      "name": "python"
    }
  },
  "cells": [
    {
      "cell_type": "code",
      "execution_count": 1,
      "metadata": {
        "id": "TLc9mcUTzyPs"
      },
      "outputs": [],
      "source": [
        "import pandas as pd\n",
        "from sklearn.model_selection import train_test_split\n",
        "from sklearn.preprocessing import LabelEncoder\n",
        "from sklearn.naive_bayes import GaussianNB, MultinomialNB, BernoulliNB\n",
        "from sklearn.metrics import accuracy_score, precision_score, recall_score, f1_score\n"
      ]
    },
    {
      "cell_type": "code",
      "source": [
        "df = pd.read_csv(\"adult.csv\", header = None)\n",
        "df.columns = [\"Age\", \"Workclass\",\"Fnlwgt\",\"Education\",\"Education-num\",\"Marital-status\",\"Occupation\", \"Relationship\",\"Race\",\"Sex\",\"capital-gain\",\"capital-loss\",\"hours-per-week\",\"native-country\",\"income\"]\n",
        "\n",
        "label_encoder = LabelEncoder()\n",
        "categorical_columns = [\"Workclass\", \"Education\", \"Marital-status\", \"Occupation\", \"Relationship\", \"Race\", \"Sex\", \"native-country\", \"income\"]\n",
        "\n",
        "for column in categorical_columns:\n",
        "    df[column] = label_encoder.fit_transform(df[column])"
      ],
      "metadata": {
        "id": "knSRB8aiz4tC"
      },
      "execution_count": 9,
      "outputs": []
    },
    {
      "cell_type": "code",
      "source": [
        "X = df.drop(\"income\", axis=1)\n",
        "y = df[\"income\"]\n",
        "\n",
        "X_train, X_test, y_train, y_test = train_test_split(X, y, test_size=0.2, random_state=42)\n"
      ],
      "metadata": {
        "id": "a5XIyLof0LRh"
      },
      "execution_count": 7,
      "outputs": []
    },
    {
      "cell_type": "code",
      "source": [
        "# Init\n",
        "gaussian_nb = GaussianNB()\n",
        "multinomial_nb = MultinomialNB()\n",
        "bernoulli_nb = BernoulliNB()\n",
        "\n",
        "# Train\n",
        "gaussian_nb.fit(X_train, y_train)\n",
        "multinomial_nb.fit(X_train, y_train)\n",
        "bernoulli_nb.fit(X_train, y_train)\n",
        "\n",
        "#predic\n",
        "gaussian_predictions = gaussian_nb.predict(X_test)\n",
        "multinomial_predictions = multinomial_nb.predict(X_test)\n",
        "bernoulli_predictions = bernoulli_nb.predict(X_test)"
      ],
      "metadata": {
        "id": "62ayqrbq0tRB"
      },
      "execution_count": null,
      "outputs": []
    },
    {
      "cell_type": "code",
      "source": [
        "\n",
        "def evaluate_model(predictions, model_name):\n",
        "    accuracy = accuracy_score(y_test, predictions)\n",
        "    precision = precision_score(y_test, predictions)\n",
        "    recall = recall_score(y_test, predictions)\n",
        "    f1 = f1_score(y_test, predictions)\n",
        "    print(f\"{model_name} Metrics:\")\n",
        "    print(\"Accuracy: \", accuracy)\n",
        "    print(\"Precision: \", precision)\n",
        "    print(\"Recall: \", recall)\n",
        "    print(\"F1 Score: \", f1)\n",
        "    print()"
      ],
      "metadata": {
        "id": "9edMIo3i0yPZ"
      },
      "execution_count": 13,
      "outputs": []
    },
    {
      "cell_type": "code",
      "source": [
        "evaluate_model(gaussian_predictions, \"GaussianNB\")\n",
        "evaluate_model(multinomial_predictions, \"MultinomialNB\")\n",
        "evaluate_model(bernoulli_predictions, \"BernoulliNB\")"
      ],
      "metadata": {
        "id": "FiqabFGK0z6a"
      },
      "execution_count": null,
      "outputs": []
    }
  ]
}